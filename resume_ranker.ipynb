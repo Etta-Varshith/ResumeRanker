{
 "cells": [
  {
   "cell_type": "code",
   "execution_count": 1,
   "id": "73f14e21-598f-44ea-bdd4-8ac4caa251ea",
   "metadata": {},
   "outputs": [
    {
     "name": "stderr",
     "output_type": "stream",
     "text": [
      "[nltk_data] Downloading package stopwords to\n",
      "[nltk_data]     C:\\Users\\hp\\AppData\\Roaming\\nltk_data...\n",
      "[nltk_data]   Unzipping corpora\\stopwords.zip.\n"
     ]
    },
    {
     "name": "stdout",
     "output_type": "stream",
     "text": [
      " Loading job description...\n",
      " Loading resumes...\n",
      " 5 resumes loaded.\n",
      " Ranking resumes...\n",
      "\n",
      " Ranked Resumes:\n",
      "1. Charlie_Lee.docx (Score: 0.1918)\n",
      "2. Alice_Johnson.docx (Score: 0.1653)\n",
      "3. Diana_Patel.docx (Score: 0.1079)\n",
      "4. Ethan_Zhang.docx (Score: 0.1006)\n",
      "5. Bob_Smith.docx (Score: 0.0651)\n"
     ]
    }
   ],
   "source": [
    "import os\n",
    "import re\n",
    "import nltk\n",
    "import docx\n",
    "import string\n",
    "import numpy as np\n",
    "from sklearn.metrics.pairwise import cosine_similarity\n",
    "from sklearn.feature_extraction.text import TfidfVectorizer\n",
    "from pdfminer.high_level import extract_text\n",
    "\n",
    "nltk.download('stopwords')\n",
    "from nltk.corpus import stopwords\n",
    "\n",
    "def clean_text(text):\n",
    "    text = text.lower()\n",
    "    text = re.sub(r'\\n', ' ', text)\n",
    "    text = re.sub(r'https?:\\S+|www\\.\\S+', '', text)\n",
    "    text = re.sub(r'\\d+', '', text)\n",
    "    text = re.sub(rf'[{string.punctuation}]', '', text)\n",
    "    text = re.sub(r'\\s+', ' ', text).strip()\n",
    "    tokens = text.split()\n",
    "    stop_words = set(stopwords.words('english'))\n",
    "    tokens = [t for t in tokens if t not in stop_words]\n",
    "    return ' '.join(tokens)\n",
    "\n",
    "def extract_from_pdf(file_path):\n",
    "    try:\n",
    "        return extract_text(file_path)\n",
    "    except:\n",
    "        return \"\"\n",
    "\n",
    "def extract_from_docx(file_path):\n",
    "    try:\n",
    "        doc = docx.Document(file_path)\n",
    "        return \"\\n\".join([para.text for para in doc.paragraphs])\n",
    "    except:\n",
    "        return \"\"\n",
    "\n",
    "def load_resumes(resume_folder):\n",
    "    resumes = []\n",
    "    file_names = []\n",
    "    for filename in os.listdir(resume_folder):\n",
    "        path = os.path.join(resume_folder, filename)\n",
    "        text = ''\n",
    "        if filename.endswith('.pdf'):\n",
    "            text = extract_from_pdf(path)\n",
    "        elif filename.endswith('.docx'):\n",
    "            text = extract_from_docx(path)\n",
    "        if text:\n",
    "            resumes.append(clean_text(text))\n",
    "            file_names.append(filename)\n",
    "    return resumes, file_names\n",
    "\n",
    "def load_job_description(jd_path):\n",
    "    with open(jd_path, 'r', encoding='utf-8') as file:\n",
    "        return clean_text(file.read())\n",
    "\n",
    "def rank_resumes(jd, resumes, file_names):\n",
    "    corpus = [jd] + resumes\n",
    "    vectorizer = TfidfVectorizer()\n",
    "    vectors = vectorizer.fit_transform(corpus)\n",
    "    jd_vec = vectors[0]\n",
    "    resume_vecs = vectors[1:]\n",
    "    scores = cosine_similarity(jd_vec, resume_vecs).flatten()\n",
    "    ranked = sorted(zip(file_names, scores), key=lambda x: x[1], reverse=True)\n",
    "    return ranked\n",
    "\n",
    "if __name__ == \"__main__\":\n",
    "    jd_path = 'job_description.txt'\n",
    "    resume_folder = 'resumes'\n",
    "    print(\" Loading job description...\")\n",
    "    jd = load_job_description(jd_path)\n",
    "    print(\" Loading resumes...\")\n",
    "    resumes, file_names = load_resumes(resume_folder)\n",
    "    print(f\" {len(resumes)} resumes loaded.\")\n",
    "    print(\" Ranking resumes...\")\n",
    "    ranked_resumes = rank_resumes(jd, resumes, file_names)\n",
    "    print(\"\\n Ranked Resumes:\")\n",
    "    for rank, (name, score) in enumerate(ranked_resumes, 1):\n",
    "        print(f\"{rank}. {name} (Score: {score:.4f})\")"
   ]
  },
  {
   "cell_type": "code",
   "execution_count": null,
   "id": "88087504-d637-403b-820d-b7a214f55433",
   "metadata": {},
   "outputs": [],
   "source": []
  }
 ],
 "metadata": {
  "kernelspec": {
   "display_name": "Python 3 (ipykernel)",
   "language": "python",
   "name": "python3"
  },
  "language_info": {
   "codemirror_mode": {
    "name": "ipython",
    "version": 3
   },
   "file_extension": ".py",
   "mimetype": "text/x-python",
   "name": "python",
   "nbconvert_exporter": "python",
   "pygments_lexer": "ipython3",
   "version": "3.13.1"
  }
 },
 "nbformat": 4,
 "nbformat_minor": 5
}
